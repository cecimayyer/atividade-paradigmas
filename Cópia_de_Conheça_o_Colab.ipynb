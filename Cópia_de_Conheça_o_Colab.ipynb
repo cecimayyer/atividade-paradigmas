{
  "cells": [
    {
      "cell_type": "markdown",
      "metadata": {
        "id": "view-in-github",
        "colab_type": "text"
      },
      "source": [
        "<a href=\"https://colab.research.google.com/github/cecimayyer/atividade-paradigmas/blob/main/C%C3%B3pia_de_Conhe%C3%A7a_o_Colab.ipynb\" target=\"_parent\"><img src=\"https://colab.research.google.com/assets/colab-badge.svg\" alt=\"Open In Colab\"/></a>"
      ]
    },
    {
      "cell_type": "markdown",
      "source": [
        "atividade 1"
      ],
      "metadata": {
        "id": "9VP_HhPfbn_c"
      }
    },
    {
      "cell_type": "code",
      "source": [
        "n1 = int(input('Digite um número:'))\n",
        "n2 = int(input('Digite outro número:'))\n",
        "if n1 > n2:\n",
        "  print (' O maior número é:' , n1)\n",
        "elif n2 > n1:\n",
        "  print ('O maior número é:' , n2)"
      ],
      "metadata": {
        "id": "fUf9cmf9bpuI",
        "outputId": "89441ffb-5e39-465a-928f-6ea4fdcc8905",
        "colab": {
          "base_uri": "https://localhost:8080/"
        }
      },
      "execution_count": null,
      "outputs": [
        {
          "output_type": "stream",
          "name": "stdout",
          "text": [
            "Digite um número:34\n",
            "Digite outro número:17\n",
            " O maior número é: 34\n"
          ]
        }
      ]
    },
    {
      "cell_type": "markdown",
      "source": [
        "atividade 2"
      ],
      "metadata": {
        "id": "vAuXa05yb2M6"
      }
    },
    {
      "cell_type": "code",
      "source": [
        "valor = int(input('Digite um valor:'))\n",
        "if valor > 0:\n",
        "  print ( valor , 'É um número positivo')\n",
        "elif valor < 0:\n",
        "  print (valor , 'É um número negativo')"
      ],
      "metadata": {
        "id": "tsYwASVBb3ux",
        "outputId": "5554fd08-5136-413e-fe43-952e521e6208",
        "colab": {
          "base_uri": "https://localhost:8080/"
        }
      },
      "execution_count": null,
      "outputs": [
        {
          "output_type": "stream",
          "name": "stdout",
          "text": [
            "Digite um valor:44\n",
            "44 É um número positivo\n"
          ]
        }
      ]
    },
    {
      "cell_type": "markdown",
      "source": [
        "atividade 3"
      ],
      "metadata": {
        "id": "TozFv-9hb9mv"
      }
    },
    {
      "cell_type": "code",
      "source": [
        "gênero = input('Seu gênero é: F (feminino), M (masculino)?')\n",
        "if gênero == 'F':\n",
        "  print ('Seu gênero é: Feminino.')\n",
        "elif gênero == 'M':\n",
        "  print ('Seu gênero é: Masculino.')\n",
        "else :\n",
        "  print ('Sexo inválido')"
      ],
      "metadata": {
        "id": "VT6Y26N4b_KI",
        "outputId": "c4cadd1e-abe2-4031-aaf8-d990b0935d0e",
        "colab": {
          "base_uri": "https://localhost:8080/"
        }
      },
      "execution_count": null,
      "outputs": [
        {
          "output_type": "stream",
          "name": "stdout",
          "text": [
            "Seu gênero é: F (feminino), M (masculino)?D\n",
            "Sexo inválido\n"
          ]
        }
      ]
    }
  ],
  "metadata": {
    "colab": {
      "provenance": [],
      "include_colab_link": true
    },
    "kernelspec": {
      "display_name": "Python 3",
      "name": "python3"
    }
  },
  "nbformat": 4,
  "nbformat_minor": 0
}