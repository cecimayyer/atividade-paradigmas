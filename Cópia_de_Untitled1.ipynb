{
  "nbformat": 4,
  "nbformat_minor": 0,
  "metadata": {
    "colab": {
      "provenance": [],
      "authorship_tag": "ABX9TyOK/ShhP6yBxpcB6g5J2S0D",
      "include_colab_link": true
    },
    "kernelspec": {
      "name": "python3",
      "display_name": "Python 3"
    },
    "language_info": {
      "name": "python"
    }
  },
  "cells": [
    {
      "cell_type": "markdown",
      "metadata": {
        "id": "view-in-github",
        "colab_type": "text"
      },
      "source": [
        "<a href=\"https://colab.research.google.com/github/cecimayyer/atividade-paradigmas/blob/main/C%C3%B3pia_de_Untitled1.ipynb\" target=\"_parent\"><img src=\"https://colab.research.google.com/assets/colab-badge.svg\" alt=\"Open In Colab\"/></a>"
      ]
    },
    {
      "cell_type": "markdown",
      "source": [
        "ativado 15"
      ],
      "metadata": {
        "id": "SyXa-v_OkQfO"
      }
    },
    {
      "cell_type": "code",
      "source": [
        "num = int(input(\"Tabuada de multiplicação \\n Escolha um número base de 1 a 11: \"))\n",
        "\n",
        "for i in range(1, 11):\n",
        "    resultado = num * i\n",
        "    print(f\"{num} x {i} = {resultado}\")\n",
        "\n",
        "print(\"\\n\")\n",
        "\n",
        "num = int(input(\"Tabuada de subtração \\n Escolha um número base de 1 a 11: \"))\n",
        "\n",
        "for i in range(1, 11):\n",
        "    resultado = num - i\n",
        "    print(f\"{num} - {i} = {resultado}\")\n",
        "print(\"\\n\")\n",
        "\n",
        "num = int(input(\"Tabuada de adição \\n Escolha um número base de 1 a 11: \"))\n",
        "\n",
        "for i in range(1, 11):\n",
        "    resultado = num + i\n",
        "    print(f\"{num} + {i} = {resultado}\")\n",
        "\n",
        "print(\"\\n\")\n",
        "\n",
        "\n",
        "num = int(input(\"Tabuada de divisão \\n Escolha um número base de 1 a 11: \"))\n",
        "\n",
        "for i in range(1, 11):\n",
        "    resultado = num / i\n",
        "    print(f\"{num} ÷ {i} = {resultado:}\")"
      ],
      "metadata": {
        "id": "me78yxjHkVLq"
      },
      "execution_count": null,
      "outputs": []
    },
    {
      "cell_type": "markdown",
      "source": [
        "atividade 15"
      ],
      "metadata": {
        "id": "JVF6hjKdk8WF"
      }
    },
    {
      "cell_type": "code",
      "source": [
        "print(\"Digite dois números\")\n",
        "n1 = int(input(\"Primeiro número: \"))\n",
        "n2 = int(input(\"Segundo número: \"))\n",
        "\n",
        "print(\"Os números pares são:\")\n",
        "\n",
        "num = n1\n",
        "while num <= n2:\n",
        "    if num % 2 == 0:\n",
        "        print(num)\n",
        "    num += 1"
      ],
      "metadata": {
        "colab": {
          "base_uri": "https://localhost:8080/"
        },
        "id": "1aOa6DW8nHyw",
        "outputId": "cdec9c11-d0bb-46e6-a1ff-d6921d8a707d"
      },
      "execution_count": null,
      "outputs": [
        {
          "output_type": "stream",
          "name": "stdout",
          "text": [
            "Digite dois números\n",
            "Primeiro número: 12\n",
            "Segundo número: 33\n",
            "Os números pares são:\n",
            "12\n",
            "14\n",
            "16\n",
            "18\n",
            "20\n",
            "22\n",
            "24\n",
            "26\n",
            "28\n",
            "30\n",
            "32\n"
          ]
        }
      ]
    }
  ]
}